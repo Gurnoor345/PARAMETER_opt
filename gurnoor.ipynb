{
  "cells": [
    {
      "cell_type": "code",
      "source": [
        "import pandas as pd\n",
        "import numpy as np\n",
        "import matplotlib.pyplot as plt\n",
        "import seaborn as sns\n",
        "%matplotlib inline\n",
        "from sklearn.model_selection import train_test_split, GridSearchCV\n",
        "from sklearn.svm import SVC\n",
        "from sklearn.metrics import accuracy_score\n",
        "from sklearn.preprocessing import StandardScaler\n",
        "from sklearn.model_selection import learning_curve\n",
        "import warnings\n",
        "warnings.filterwarnings('ignore')"
      ],
      "metadata": {
        "id": "B6NCPRyC0XzF"
      },
      "execution_count": 1,
      "outputs": []
    },
    {
      "cell_type": "code",
      "source": [
        "# Load the Room Occupancy Estimation dataset\n",
        "df = pd.read_csv(\"/content/magic04.data\")"
      ],
      "metadata": {
        "id": "i8GAMrTD1ppH"
      },
      "execution_count": 2,
      "outputs": []
    },
    {
      "cell_type": "code",
      "source": [
        "\n",
        "X = df.iloc[:, :-1]\n",
        "y = df.iloc[:, -1]\n",
        "scaler = StandardScaler()\n",
        "X = scaler.fit_transform(X.astype(float))"
      ],
      "metadata": {
        "id": "atfjKo5w1qt0"
      },
      "execution_count": 5,
      "outputs": []
    },
    {
      "cell_type": "code",
      "source": [
        "samples = []\n",
        "for i in range(10):\n",
        "    X_train, X_test, y_train, y_test = train_test_split(X, y, test_size=0.3, random_state=i)\n",
        "    samples.append((X_train, X_test, y_train, y_test))"
      ],
      "metadata": {
        "id": "7xkXhOS787sc"
      },
      "execution_count": 6,
      "outputs": []
    },
    {
      "cell_type": "code",
      "source": [
        "kernels = ['linear', 'poly', 'rbf', 'sigmoid']\n",
        "result = pd.DataFrame(columns=['Sample', 'Best Accuracy', 'Best Kernel', 'Best Nu', 'Best Epsilon'])\n",
        "\n",
        "def fitnessFunction(kernel, C, gamma):\n",
        "  svm = SVC(kernel=kernel, C=C, gamma=gamma, max_iter=1000)\n",
        "  svm.fit(X_train, y_train)\n",
        "  y_pred = svm.predict(X_test)\n",
        "  return accuracy_score(y_pred, y_test)\n",
        "\n",
        "for i in range(len(samples)):\n",
        "  best_accuracy = 0\n",
        "  best_C = 0\n",
        "  best_gamma = 0\n",
        "  for kernel in kernels:\n",
        "    X_train, X_test, y_train, y_test = samples[i]\n",
        "    C = np.random.uniform(0, 10)\n",
        "    gamma = np.random.uniform(0, 10)\n",
        "    score = fitnessFunction(kernel, C, gamma)\n",
        "    if score>best_accuracy:\n",
        "      best_accuracy = round(score, 2)\n",
        "      best_C = round(C, 2)\n",
        "      best_gamma = round(gamma, 2)\n",
        "      best_kernel = kernel\n",
        "  print('Best Accuracy = ', best_accuracy, 'Best Kernel = ', best_kernel, 'Best Nu = ', best_C, 'Best Epsilon = ', best_gamma)\n",
        "  result.loc[i] = [i+1, best_accuracy, best_kernel, best_C, best_gamma]"
      ],
      "metadata": {
        "id": "S-Wz-mhD1uOT",
        "outputId": "c0035b43-43fb-4a94-8fcf-fe3a6ae0bdd3",
        "colab": {
          "base_uri": "https://localhost:8080/"
        }
      },
      "execution_count": 7,
      "outputs": [
        {
          "output_type": "stream",
          "name": "stdout",
          "text": [
            "Best Accuracy =  0.65 Best Kernel =  rbf Best Nu =  9.91 Best Epsilon =  2.85\n",
            "Best Accuracy =  0.63 Best Kernel =  rbf Best Nu =  6.05 Best Epsilon =  5.05\n",
            "Best Accuracy =  0.65 Best Kernel =  rbf Best Nu =  0.66 Best Epsilon =  7.24\n",
            "Best Accuracy =  0.69 Best Kernel =  rbf Best Nu =  5.34 Best Epsilon =  0.94\n",
            "Best Accuracy =  0.62 Best Kernel =  rbf Best Nu =  9.03 Best Epsilon =  4.84\n",
            "Best Accuracy =  0.69 Best Kernel =  sigmoid Best Nu =  2.23 Best Epsilon =  6.82\n",
            "Best Accuracy =  0.72 Best Kernel =  rbf Best Nu =  3.43 Best Epsilon =  0.46\n",
            "Best Accuracy =  0.66 Best Kernel =  rbf Best Nu =  0.73 Best Epsilon =  7.82\n",
            "Best Accuracy =  0.68 Best Kernel =  sigmoid Best Nu =  8.14 Best Epsilon =  7.48\n",
            "Best Accuracy =  0.69 Best Kernel =  rbf Best Nu =  1.69 Best Epsilon =  2.31\n"
          ]
        }
      ]
    },
    {
      "cell_type": "code",
      "source": [
        "result"
      ],
      "metadata": {
        "id": "i-fRual01x1C",
        "outputId": "6528f453-eaa4-49d2-940d-044f626b4588",
        "colab": {
          "base_uri": "https://localhost:8080/",
          "height": 363
        }
      },
      "execution_count": 8,
      "outputs": [
        {
          "output_type": "execute_result",
          "data": {
            "text/plain": [
              "   Sample  Best Accuracy Best Kernel  Best Nu  Best Epsilon\n",
              "0       1           0.65         rbf     9.91          2.85\n",
              "1       2           0.63         rbf     6.05          5.05\n",
              "2       3           0.65         rbf     0.66          7.24\n",
              "3       4           0.69         rbf     5.34          0.94\n",
              "4       5           0.62         rbf     9.03          4.84\n",
              "5       6           0.69     sigmoid     2.23          6.82\n",
              "6       7           0.72         rbf     3.43          0.46\n",
              "7       8           0.66         rbf     0.73          7.82\n",
              "8       9           0.68     sigmoid     8.14          7.48\n",
              "9      10           0.69         rbf     1.69          2.31"
            ],
            "text/html": [
              "\n",
              "  <div id=\"df-2cedb1b9-05b5-44c4-93ae-df81408598d0\">\n",
              "    <div class=\"colab-df-container\">\n",
              "      <div>\n",
              "<style scoped>\n",
              "    .dataframe tbody tr th:only-of-type {\n",
              "        vertical-align: middle;\n",
              "    }\n",
              "\n",
              "    .dataframe tbody tr th {\n",
              "        vertical-align: top;\n",
              "    }\n",
              "\n",
              "    .dataframe thead th {\n",
              "        text-align: right;\n",
              "    }\n",
              "</style>\n",
              "<table border=\"1\" class=\"dataframe\">\n",
              "  <thead>\n",
              "    <tr style=\"text-align: right;\">\n",
              "      <th></th>\n",
              "      <th>Sample</th>\n",
              "      <th>Best Accuracy</th>\n",
              "      <th>Best Kernel</th>\n",
              "      <th>Best Nu</th>\n",
              "      <th>Best Epsilon</th>\n",
              "    </tr>\n",
              "  </thead>\n",
              "  <tbody>\n",
              "    <tr>\n",
              "      <th>0</th>\n",
              "      <td>1</td>\n",
              "      <td>0.65</td>\n",
              "      <td>rbf</td>\n",
              "      <td>9.91</td>\n",
              "      <td>2.85</td>\n",
              "    </tr>\n",
              "    <tr>\n",
              "      <th>1</th>\n",
              "      <td>2</td>\n",
              "      <td>0.63</td>\n",
              "      <td>rbf</td>\n",
              "      <td>6.05</td>\n",
              "      <td>5.05</td>\n",
              "    </tr>\n",
              "    <tr>\n",
              "      <th>2</th>\n",
              "      <td>3</td>\n",
              "      <td>0.65</td>\n",
              "      <td>rbf</td>\n",
              "      <td>0.66</td>\n",
              "      <td>7.24</td>\n",
              "    </tr>\n",
              "    <tr>\n",
              "      <th>3</th>\n",
              "      <td>4</td>\n",
              "      <td>0.69</td>\n",
              "      <td>rbf</td>\n",
              "      <td>5.34</td>\n",
              "      <td>0.94</td>\n",
              "    </tr>\n",
              "    <tr>\n",
              "      <th>4</th>\n",
              "      <td>5</td>\n",
              "      <td>0.62</td>\n",
              "      <td>rbf</td>\n",
              "      <td>9.03</td>\n",
              "      <td>4.84</td>\n",
              "    </tr>\n",
              "    <tr>\n",
              "      <th>5</th>\n",
              "      <td>6</td>\n",
              "      <td>0.69</td>\n",
              "      <td>sigmoid</td>\n",
              "      <td>2.23</td>\n",
              "      <td>6.82</td>\n",
              "    </tr>\n",
              "    <tr>\n",
              "      <th>6</th>\n",
              "      <td>7</td>\n",
              "      <td>0.72</td>\n",
              "      <td>rbf</td>\n",
              "      <td>3.43</td>\n",
              "      <td>0.46</td>\n",
              "    </tr>\n",
              "    <tr>\n",
              "      <th>7</th>\n",
              "      <td>8</td>\n",
              "      <td>0.66</td>\n",
              "      <td>rbf</td>\n",
              "      <td>0.73</td>\n",
              "      <td>7.82</td>\n",
              "    </tr>\n",
              "    <tr>\n",
              "      <th>8</th>\n",
              "      <td>9</td>\n",
              "      <td>0.68</td>\n",
              "      <td>sigmoid</td>\n",
              "      <td>8.14</td>\n",
              "      <td>7.48</td>\n",
              "    </tr>\n",
              "    <tr>\n",
              "      <th>9</th>\n",
              "      <td>10</td>\n",
              "      <td>0.69</td>\n",
              "      <td>rbf</td>\n",
              "      <td>1.69</td>\n",
              "      <td>2.31</td>\n",
              "    </tr>\n",
              "  </tbody>\n",
              "</table>\n",
              "</div>\n",
              "      <button class=\"colab-df-convert\" onclick=\"convertToInteractive('df-2cedb1b9-05b5-44c4-93ae-df81408598d0')\"\n",
              "              title=\"Convert this dataframe to an interactive table.\"\n",
              "              style=\"display:none;\">\n",
              "        \n",
              "  <svg xmlns=\"http://www.w3.org/2000/svg\" height=\"24px\"viewBox=\"0 0 24 24\"\n",
              "       width=\"24px\">\n",
              "    <path d=\"M0 0h24v24H0V0z\" fill=\"none\"/>\n",
              "    <path d=\"M18.56 5.44l.94 2.06.94-2.06 2.06-.94-2.06-.94-.94-2.06-.94 2.06-2.06.94zm-11 1L8.5 8.5l.94-2.06 2.06-.94-2.06-.94L8.5 2.5l-.94 2.06-2.06.94zm10 10l.94 2.06.94-2.06 2.06-.94-2.06-.94-.94-2.06-.94 2.06-2.06.94z\"/><path d=\"M17.41 7.96l-1.37-1.37c-.4-.4-.92-.59-1.43-.59-.52 0-1.04.2-1.43.59L10.3 9.45l-7.72 7.72c-.78.78-.78 2.05 0 2.83L4 21.41c.39.39.9.59 1.41.59.51 0 1.02-.2 1.41-.59l7.78-7.78 2.81-2.81c.8-.78.8-2.07 0-2.86zM5.41 20L4 18.59l7.72-7.72 1.47 1.35L5.41 20z\"/>\n",
              "  </svg>\n",
              "      </button>\n",
              "      \n",
              "  <style>\n",
              "    .colab-df-container {\n",
              "      display:flex;\n",
              "      flex-wrap:wrap;\n",
              "      gap: 12px;\n",
              "    }\n",
              "\n",
              "    .colab-df-convert {\n",
              "      background-color: #E8F0FE;\n",
              "      border: none;\n",
              "      border-radius: 50%;\n",
              "      cursor: pointer;\n",
              "      display: none;\n",
              "      fill: #1967D2;\n",
              "      height: 32px;\n",
              "      padding: 0 0 0 0;\n",
              "      width: 32px;\n",
              "    }\n",
              "\n",
              "    .colab-df-convert:hover {\n",
              "      background-color: #E2EBFA;\n",
              "      box-shadow: 0px 1px 2px rgba(60, 64, 67, 0.3), 0px 1px 3px 1px rgba(60, 64, 67, 0.15);\n",
              "      fill: #174EA6;\n",
              "    }\n",
              "\n",
              "    [theme=dark] .colab-df-convert {\n",
              "      background-color: #3B4455;\n",
              "      fill: #D2E3FC;\n",
              "    }\n",
              "\n",
              "    [theme=dark] .colab-df-convert:hover {\n",
              "      background-color: #434B5C;\n",
              "      box-shadow: 0px 1px 3px 1px rgba(0, 0, 0, 0.15);\n",
              "      filter: drop-shadow(0px 1px 2px rgba(0, 0, 0, 0.3));\n",
              "      fill: #FFFFFF;\n",
              "    }\n",
              "  </style>\n",
              "\n",
              "      <script>\n",
              "        const buttonEl =\n",
              "          document.querySelector('#df-2cedb1b9-05b5-44c4-93ae-df81408598d0 button.colab-df-convert');\n",
              "        buttonEl.style.display =\n",
              "          google.colab.kernel.accessAllowed ? 'block' : 'none';\n",
              "\n",
              "        async function convertToInteractive(key) {\n",
              "          const element = document.querySelector('#df-2cedb1b9-05b5-44c4-93ae-df81408598d0');\n",
              "          const dataTable =\n",
              "            await google.colab.kernel.invokeFunction('convertToInteractive',\n",
              "                                                     [key], {});\n",
              "          if (!dataTable) return;\n",
              "\n",
              "          const docLinkHtml = 'Like what you see? Visit the ' +\n",
              "            '<a target=\"_blank\" href=https://colab.research.google.com/notebooks/data_table.ipynb>data table notebook</a>'\n",
              "            + ' to learn more about interactive tables.';\n",
              "          element.innerHTML = '';\n",
              "          dataTable['output_type'] = 'display_data';\n",
              "          await google.colab.output.renderOutput(dataTable, element);\n",
              "          const docLink = document.createElement('div');\n",
              "          docLink.innerHTML = docLinkHtml;\n",
              "          element.appendChild(docLink);\n",
              "        }\n",
              "      </script>\n",
              "    </div>\n",
              "  </div>\n",
              "  "
            ]
          },
          "metadata": {},
          "execution_count": 8
        }
      ]
    },
    {
      "cell_type": "code",
      "source": [
        "X_train, X_test, y_train, y_test = samples[result['Best Accuracy'].idxmax()]"
      ],
      "metadata": {
        "id": "jP-D39sS8EzM"
      },
      "execution_count": 9,
      "outputs": []
    },
    {
      "cell_type": "code",
      "source": [
        "train_sizes, train_scores, test_scores = learning_curve(SVC(kernel=result['Best Kernel'].iloc[result['Best Accuracy'].idxmax()], \n",
        "                                                        C=result['Best Nu'].iloc[result['Best Accuracy'].idxmax()],\n",
        "                                                        gamma=result['Best Epsilon'].iloc[result['Best Accuracy'].idxmax()],\n",
        "                                                        max_iter = 1000), X_train, y_train, cv=10, scoring='accuracy', n_jobs=-1,\n",
        "                                                        train_sizes = np.linspace(0.01, 1.0, 50))\n"
      ],
      "metadata": {
        "id": "D2y4uJ2J9p8q"
      },
      "execution_count": 10,
      "outputs": []
    },
    {
      "cell_type": "code",
      "source": [
        "train_sizes\n",
        "train_mean = np.mean(train_scores, axis=1)\n",
        "test_mean = np.mean(test_scores, axis=1)"
      ],
      "metadata": {
        "id": "TEwZZuQT9ub_"
      },
      "execution_count": 11,
      "outputs": []
    },
    {
      "cell_type": "code",
      "source": [
        "plt.figure(figsize=(10, 6))\n",
        "plt.plot(train_sizes, train_mean, label='Training Score')\n",
        "plt.plot(train_sizes, test_mean, label='Cross-Validation Score')\n",
        "plt.xlabel('Iterations')\n",
        "plt.ylabel('Accuracy')\n",
        "plt.title('Convergence Graph')\n",
        "plt.legend(loc=\"best\")\n",
        "plt.show()"
      ],
      "metadata": {
        "id": "xn9ZlnXC93av",
        "outputId": "d82813b4-a799-4228-b873-3f57a40c9c56",
        "colab": {
          "base_uri": "https://localhost:8080/",
          "height": 564
        }
      },
      "execution_count": 12,
      "outputs": [
        {
          "output_type": "display_data",
          "data": {
            "text/plain": [
              "<Figure size 1000x600 with 1 Axes>"
            ],
            "image/png": "[encoded data removed]"
          },
          "metadata": {}
        }
      ]
    }
  ],
  "metadata": {
    "colab": {
      "provenance": []
    },
    "kernelspec": {
      "display_name": "Python 3",
      "name": "python3"
    }
  },
  "nbformat": 4,
  "nbformat_minor": 0
}